{
 "cells": [
  {
   "cell_type": "markdown",
   "metadata": {},
   "source": [
    "## Binod Suman Academy YouTube"
   ]
  },
  {
   "cell_type": "markdown",
   "metadata": {},
   "source": [
    "## Dataset download from https://www.kaggle.com/zygmunt/goodbooks-10k/download"
   ]
  },
  {
   "cell_type": "code",
   "execution_count": 93,
   "metadata": {},
   "outputs": [],
   "source": [
    "import pyspark as ps\n",
    "from pyspark.sql import SQLContext\n",
    "from pyspark.ml.evaluation import RegressionEvaluator\n",
    "from pyspark.ml.tuning import CrossValidator, ParamGridBuilder\n",
    "from pyspark.ml import Pipeline\n",
    "from pyspark.sql import Row\n",
    "from pyspark.ml.recommendation import ALS\n",
    "from pyspark.sql.functions import udf, col, when\n",
    "import numpy as np\n",
    "\n",
    "# to show all predicted book image\n",
    "from IPython.display import Image\n",
    "from IPython.display import display"
   ]
  },
  {
   "cell_type": "code",
   "execution_count": 5,
   "metadata": {},
   "outputs": [],
   "source": [
    "# Create a spark session \n",
    "# create s spark context\n",
    "\n",
    "spark = ps.sql.SparkSession.builder \\\n",
    "            .master(\"local\") \\\n",
    "            .appName(\"Youtube demo\") \\\n",
    "            .getOrCreate() \n",
    "            \n",
    "sc = spark.sparkContext \n",
    "sqlContext = SQLContext(sc)"
   ]
  },
  {
   "cell_type": "code",
   "execution_count": 7,
   "metadata": {},
   "outputs": [
    {
     "name": "stdout",
     "output_type": "stream",
     "text": [
      "root\n",
      " |-- book_id: integer (nullable = true)\n",
      " |-- user_id: integer (nullable = true)\n",
      " |-- rating: integer (nullable = true)\n",
      "\n"
     ]
    }
   ],
   "source": [
    "# Create dataframe for rating dataset\n",
    "# inferSchema: automatically infer column types. \n",
    "# We want header of dataframe.\n",
    "\n",
    "ratings_df = spark.read.csv('goodbooks-10k/ratings.csv',header=True, inferSchema=True)\n",
    "ratings_df.printSchema()"
   ]
  },
  {
   "cell_type": "code",
   "execution_count": 8,
   "metadata": {},
   "outputs": [
    {
     "name": "stdout",
     "output_type": "stream",
     "text": [
      "+-------+-------+------+\n",
      "|book_id|user_id|rating|\n",
      "+-------+-------+------+\n",
      "|      1|    314|     5|\n",
      "|      1|    439|     3|\n",
      "|      1|    588|     5|\n",
      "|      1|   1169|     4|\n",
      "|      1|   1185|     4|\n",
      "+-------+-------+------+\n",
      "only showing top 5 rows\n",
      "\n"
     ]
    }
   ],
   "source": [
    "ratings_df.show(5)"
   ]
  },
  {
   "cell_type": "code",
   "execution_count": 9,
   "metadata": {},
   "outputs": [
    {
     "name": "stdout",
     "output_type": "stream",
     "text": [
      "root\n",
      " |-- id: integer (nullable = true)\n",
      " |-- book_id: integer (nullable = true)\n",
      " |-- best_book_id: integer (nullable = true)\n",
      " |-- work_id: integer (nullable = true)\n",
      " |-- books_count: integer (nullable = true)\n",
      " |-- isbn: string (nullable = true)\n",
      " |-- isbn13: double (nullable = true)\n",
      " |-- authors: string (nullable = true)\n",
      " |-- original_publication_year: double (nullable = true)\n",
      " |-- original_title: string (nullable = true)\n",
      " |-- title: string (nullable = true)\n",
      " |-- language_code: string (nullable = true)\n",
      " |-- average_rating: string (nullable = true)\n",
      " |-- ratings_count: string (nullable = true)\n",
      " |-- work_ratings_count: string (nullable = true)\n",
      " |-- work_text_reviews_count: string (nullable = true)\n",
      " |-- ratings_1: double (nullable = true)\n",
      " |-- ratings_2: integer (nullable = true)\n",
      " |-- ratings_3: integer (nullable = true)\n",
      " |-- ratings_4: integer (nullable = true)\n",
      " |-- ratings_5: integer (nullable = true)\n",
      " |-- image_url: string (nullable = true)\n",
      " |-- small_image_url: string (nullable = true)\n",
      "\n"
     ]
    }
   ],
   "source": [
    "# Creating data frame from book dataset csv\n",
    "books_df = spark.read.csv('goodbooks-10k/books.csv',header=True, inferSchema=True) \n",
    "books_df.printSchema()"
   ]
  },
  {
   "cell_type": "code",
   "execution_count": 10,
   "metadata": {},
   "outputs": [
    {
     "name": "stdout",
     "output_type": "stream",
     "text": [
      "+---+-------+------------+-------+-----------+---------+----------------+---------------+-------------------------+----------------+--------------------+-------------+--------------+-------------+------------------+-----------------------+---------+---------+---------+---------+---------+--------------------+--------------------+\n",
      "| id|book_id|best_book_id|work_id|books_count|     isbn|          isbn13|        authors|original_publication_year|  original_title|               title|language_code|average_rating|ratings_count|work_ratings_count|work_text_reviews_count|ratings_1|ratings_2|ratings_3|ratings_4|ratings_5|           image_url|     small_image_url|\n",
      "+---+-------+------------+-------+-----------+---------+----------------+---------------+-------------------------+----------------+--------------------+-------------+--------------+-------------+------------------+-----------------------+---------+---------+---------+---------+---------+--------------------+--------------------+\n",
      "|  1|2767052|     2767052|2792775|        272|439023483|9.78043902348E12|Suzanne Collins|                   2008.0|The Hunger Games|The Hunger Games ...|          eng|          4.34|      4780653|           4942365|                 155254|  66715.0|   127936|   560092|  1481305|  2706317|https://images.gr...|https://images.gr...|\n",
      "+---+-------+------------+-------+-----------+---------+----------------+---------------+-------------------------+----------------+--------------------+-------------+--------------+-------------+------------------+-----------------------+---------+---------+---------+---------+---------+--------------------+--------------------+\n",
      "only showing top 1 row\n",
      "\n"
     ]
    }
   ],
   "source": [
    "books_df.show(1)"
   ]
  },
  {
   "cell_type": "code",
   "execution_count": 11,
   "metadata": {},
   "outputs": [],
   "source": [
    "# ALS requires all input should be numeric. But no need to change as we have all data in numeric.\n",
    "training_df, validation_df = ratings_df.randomSplit([.8, .2])"
   ]
  },
  {
   "cell_type": "code",
   "execution_count": 12,
   "metadata": {},
   "outputs": [],
   "source": [
    "# These tuninar parameter will be using in ALS\n",
    "# Watch YOUTUBE Video\n",
    "iterations = 10\n",
    "regularization_parameter = 0.1\n",
    "rank= 4\n",
    "errors = []\n",
    "err = 0"
   ]
  },
  {
   "cell_type": "code",
   "execution_count": 14,
   "metadata": {},
   "outputs": [
    {
     "name": "stdout",
     "output_type": "stream",
     "text": [
      "Root-mean-square error = 0.8958079141064279\n"
     ]
    }
   ],
   "source": [
    "als = ALS(maxIter=iterations, regParam=regularization_parameter, rank=4, userCol=\"user_id\", itemCol=\"book_id\", ratingCol=\"rating\")\n",
    "model = als.fit(training_df)\n",
    "predictions = model.transform(validation_df)\n",
    "new_predictions = predictions.filter(col('prediction') != np.nan)\n",
    "evaluator = RegressionEvaluator(metricName=\"rmse\", labelCol=\"rating\", predictionCol=\"prediction\")\n",
    "rmse = evaluator.evaluate(new_predictions)\n",
    "print(\"Root-mean-square error = \" + str(rmse))\n",
    "\n"
   ]
  },
  {
   "cell_type": "code",
   "execution_count": 15,
   "metadata": {},
   "outputs": [
    {
     "name": "stdout",
     "output_type": "stream",
     "text": [
      "Root-mean-square error = 0.8992570281172305\n"
     ]
    }
   ],
   "source": [
    "als = ALS(maxIter=iterations, regParam=regularization_parameter, rank=5, userCol=\"user_id\", itemCol=\"book_id\", ratingCol=\"rating\")\n",
    "model = als.fit(training_df)\n",
    "predictions = model.transform(validation_df)\n",
    "new_predictions = predictions.filter(col('prediction') != np.nan)\n",
    "evaluator = RegressionEvaluator(metricName=\"rmse\", labelCol=\"rating\", predictionCol=\"prediction\")\n",
    "rmse = evaluator.evaluate(new_predictions)\n",
    "print(\"Root-mean-square error = \" + str(rmse))\n",
    "\n",
    "\n"
   ]
  },
  {
   "cell_type": "code",
   "execution_count": 16,
   "metadata": {},
   "outputs": [
    {
     "name": "stdout",
     "output_type": "stream",
     "text": [
      "Rank : 4  Root-mean-square error = 0.8958079141064279\n",
      "Rank : 5  Root-mean-square error = 0.8992570281172305\n",
      "Rank : 6  Root-mean-square error = 0.9015580965812328\n",
      "Rank : 7  Root-mean-square error = 0.9087950708936399\n",
      "Rank : 8  Root-mean-square error = 0.9077128348054919\n",
      "Rank : 9  Root-mean-square error = 0.9132873140456141\n"
     ]
    }
   ],
   "source": [
    "for rank in range(4,10):\n",
    "    als = ALS(maxIter=iterations, regParam=regularization_parameter, rank=rank, userCol=\"user_id\", itemCol=\"book_id\", ratingCol=\"rating\")\n",
    "    model = als.fit(training_df)\n",
    "    predictions = model.transform(validation_df)\n",
    "    new_predictions = predictions.filter(col('prediction') != np.nan)\n",
    "    evaluator = RegressionEvaluator(metricName=\"rmse\", labelCol=\"rating\", predictionCol=\"prediction\")\n",
    "    rmse = evaluator.evaluate(new_predictions)\n",
    "    print(\"Rank :\", rank, \" Root-mean-square error = \" + str(rmse))"
   ]
  },
  {
   "cell_type": "code",
   "execution_count": null,
   "metadata": {},
   "outputs": [],
   "source": [
    "# Build a CrossValidator to evaluate over the same \n",
    "# range of ranks with different regularization \n",
    "# constants. "
   ]
  },
  {
   "cell_type": "code",
   "execution_count": 19,
   "metadata": {},
   "outputs": [],
   "source": [
    "als = ALS(maxIter=iterations, regParam=regularization_parameter, rank=rank, userCol=\"user_id\", itemCol=\"book_id\", ratingCol=\"rating\")\n",
    "paramGrid = ParamGridBuilder() \\\n",
    "    .addGrid(als.regParam, [0.1, 0.01, 0.18]) \\\n",
    "    .addGrid(als.rank, range(4, 6)) \\\n",
    "    .build()\n",
    "evaluator = RegressionEvaluator(metricName=\"rmse\", labelCol=\"rating\", predictionCol=\"prediction\")\n",
    "crossval = CrossValidator(estimator=als,\n",
    "                          estimatorParamMaps=paramGrid,\n",
    "                          evaluator=evaluator,\n",
    "                          numFolds=5)\n",
    "cvModel = crossval.fit(training_df)"
   ]
  },
  {
   "cell_type": "code",
   "execution_count": 20,
   "metadata": {},
   "outputs": [
    {
     "name": "stdout",
     "output_type": "stream",
     "text": [
      "the rmse for optimal grid parameters with cross validation is: 0.8958079141064279\n"
     ]
    }
   ],
   "source": [
    "cvModel_pred = cvModel.transform(validation_df)\n",
    "cvModel_pred = cvModel_pred.filter(col('prediction') != np.nan)\n",
    "rmse = evaluator.evaluate(cvModel_pred)\n",
    "print(\"the rmse for optimal grid parameters with cross validation is: {}\".format(rmse))"
   ]
  },
  {
   "cell_type": "code",
   "execution_count": 21,
   "metadata": {},
   "outputs": [],
   "source": [
    "# Build final model with Rank 4 and Lambda 0.18\n",
    "final_als = ALS(maxIter=10, regParam=0.1, rank=4, userCol=\"user_id\", itemCol=\"book_id\", ratingCol=\"rating\")\n",
    "final_model = final_als.fit(training_df)"
   ]
  },
  {
   "cell_type": "code",
   "execution_count": 84,
   "metadata": {},
   "outputs": [
    {
     "name": "stdout",
     "output_type": "stream",
     "text": [
      "+-------+-------+------+----------+\n",
      "|book_id|user_id|rating|prediction|\n",
      "+-------+-------+------+----------+\n",
      "|    148|  35982|     3| 3.4614282|\n",
      "|    148|   3922|     3| 3.8240075|\n",
      "|    148|   6630|     3| 3.1852236|\n",
      "|    148|  32055|     3| 3.1400247|\n",
      "|    148|   7001|     4| 3.7838688|\n",
      "|    148|  14603|     4| 3.4999962|\n",
      "|    148|  33065|     3| 3.6070657|\n",
      "|    148|  42404|     5| 3.9058194|\n",
      "|    148|  50999|     3|  3.183998|\n",
      "|    148|  40167|     5| 3.1608467|\n",
      "+-------+-------+------+----------+\n",
      "only showing top 10 rows\n",
      "\n"
     ]
    }
   ],
   "source": [
    "# show 10 predictions\n",
    "predictions = final_model.transform(validation_df)\n",
    "predictions.show(n = 10)\n",
    "# Predictin is very much match with actual ratings"
   ]
  },
  {
   "cell_type": "code",
   "execution_count": 108,
   "metadata": {},
   "outputs": [
    {
     "name": "stdout",
     "output_type": "stream",
     "text": [
      "+-------+----------+----------+\n",
      "|user_id|     title|prediction|\n",
      "+-------+----------+----------+\n",
      "|  19526|Lysistrata| 4.5223827|\n",
      "|  43689|Lysistrata| 4.1192284|\n",
      "|  37449|Lysistrata| 4.6407695|\n",
      "|  34404|Lysistrata| 4.2335396|\n",
      "|  50313|Lysistrata| 4.3338776|\n",
      "+-------+----------+----------+\n",
      "only showing top 5 rows\n",
      "\n"
     ]
    }
   ],
   "source": [
    "predictions.join(books_df, \"book_id\").select(\"user_id\",\"title\",\"prediction\").show(5)\n",
    "\n"
   ]
  },
  {
   "cell_type": "code",
   "execution_count": 90,
   "metadata": {},
   "outputs": [
    {
     "data": {
      "text/plain": [
       "5"
      ]
     },
     "execution_count": 90,
     "metadata": {},
     "output_type": "execute_result"
    }
   ],
   "source": [
    "for_one_user = predictions.filter(col(\"user_id\")==35982).join(books_df, \"book_id\").select(\"user_id\",\"title\",\"image_url\",\"prediction\")\n",
    "\n",
    "for_one_user.count()\n"
   ]
  },
  {
   "cell_type": "code",
   "execution_count": 91,
   "metadata": {},
   "outputs": [
    {
     "name": "stdout",
     "output_type": "stream",
     "text": [
      "+-------+--------------------+--------------------+----------+\n",
      "|user_id|               title|           image_url|prediction|\n",
      "+-------+--------------------+--------------------+----------+\n",
      "|  35982|The Innocent Man:...|https://s.gr-asse...| 3.4493642|\n",
      "|  35982|The Lost Continen...|https://images.gr...| 2.4551258|\n",
      "|  35982|Another Bullshit ...|https://s.gr-asse...|  3.948512|\n",
      "|  35982|The Portrait of a...|https://images.gr...|  3.552127|\n",
      "|  35982|The Lord of the R...|https://s.gr-asse...| 3.8522704|\n",
      "+-------+--------------------+--------------------+----------+\n",
      "\n"
     ]
    }
   ],
   "source": [
    "for_one_user.show()"
   ]
  },
  {
   "cell_type": "code",
   "execution_count": 105,
   "metadata": {},
   "outputs": [
    {
     "name": "stdout",
     "output_type": "stream",
     "text": [
      "The Innocent Man: Murder and Injustice in a Small Town\n"
     ]
    },
    {
     "data": {
      "text/html": [
       "<img src=\"https://s.gr-assets.com/assets/nophoto/book/111x148-bcc042a9c91a29c1d680899eff700a03.png\"/>"
      ],
      "text/plain": [
       "<IPython.core.display.Image object>"
      ]
     },
     "metadata": {},
     "output_type": "display_data"
    },
    {
     "name": "stdout",
     "output_type": "stream",
     "text": [
      "The Lost Continent: Travels in Small Town America\n"
     ]
    },
    {
     "data": {
      "text/html": [
       "<img src=\"https://images.gr-assets.com/books/1404042682m/26.jpg\"/>"
      ],
      "text/plain": [
       "<IPython.core.display.Image object>"
      ]
     },
     "metadata": {},
     "output_type": "display_data"
    },
    {
     "name": "stdout",
     "output_type": "stream",
     "text": [
      "Another Bullshit Night in Suck City\n"
     ]
    },
    {
     "data": {
      "text/html": [
       "<img src=\"https://s.gr-assets.com/assets/nophoto/book/111x148-bcc042a9c91a29c1d680899eff700a03.png\"/>"
      ],
      "text/plain": [
       "<IPython.core.display.Image object>"
      ]
     },
     "metadata": {},
     "output_type": "display_data"
    },
    {
     "name": "stdout",
     "output_type": "stream",
     "text": [
      "The Portrait of a Lady\n"
     ]
    },
    {
     "data": {
      "text/html": [
       "<img src=\"https://images.gr-assets.com/books/1502148606m/264.jpg\"/>"
      ],
      "text/plain": [
       "<IPython.core.display.Image object>"
      ]
     },
     "metadata": {},
     "output_type": "display_data"
    },
    {
     "name": "stdout",
     "output_type": "stream",
     "text": [
      "The Lord of the Rings: Weapons and Warfare\n"
     ]
    },
    {
     "data": {
      "text/html": [
       "<img src=\"https://s.gr-assets.com/assets/nophoto/book/111x148-bcc042a9c91a29c1d680899eff700a03.png\"/>"
      ],
      "text/plain": [
       "<IPython.core.display.Image object>"
      ]
     },
     "metadata": {},
     "output_type": "display_data"
    }
   ],
   "source": [
    "for book in for_one_user.take(10):\n",
    "    print(book.title)\n",
    "    display(Image(url=book.image_url))"
   ]
  },
  {
   "cell_type": "code",
   "execution_count": 22,
   "metadata": {},
   "outputs": [],
   "source": [
    "# Generate top 5 books recommendations for each user\n",
    "userRecomments = final_model.recommendForAllUsers(5)\n",
    "# Generate top 5 user recommendations for each movie\n",
    "bookRecomments = final_model.recommendForAllItems(5)"
   ]
  },
  {
   "cell_type": "code",
   "execution_count": 24,
   "metadata": {},
   "outputs": [
    {
     "name": "stdout",
     "output_type": "stream",
     "text": [
      "root\n",
      " |-- user_id: integer (nullable = false)\n",
      " |-- recommendations: array (nullable = true)\n",
      " |    |-- element: struct (containsNull = true)\n",
      " |    |    |-- book_id: integer (nullable = true)\n",
      " |    |    |-- rating: float (nullable = true)\n",
      "\n"
     ]
    }
   ],
   "source": [
    "userRecomments.printSchema()"
   ]
  },
  {
   "cell_type": "code",
   "execution_count": 25,
   "metadata": {},
   "outputs": [
    {
     "name": "stdout",
     "output_type": "stream",
     "text": [
      "+-------+------------------------------+\n",
      "|user_id|book_id                       |\n",
      "+-------+------------------------------+\n",
      "|148    |[6590, 9076, 562, 862, 6920]  |\n",
      "|463    |[8109, 3124, 4336, 3082, 3395]|\n",
      "|471    |[977, 5175, 2520, 5339, 5604] |\n",
      "|496    |[1338, 7537, 2236, 8854, 3885]|\n",
      "|833    |[3953, 1338, 6613, 2236, 3885]|\n",
      "|1088   |[8109, 3628, 7254, 9024, 5207]|\n",
      "|1238   |[7401, 4868, 852, 5919, 4778] |\n",
      "|1342   |[7401, 4154, 4868, 6902, 3628]|\n",
      "|1580   |[6590, 6920, 5207, 862, 3628] |\n",
      "|1645   |[6590, 7401, 3953, 852, 9076] |\n",
      "+-------+------------------------------+\n",
      "only showing top 10 rows\n",
      "\n"
     ]
    }
   ],
   "source": [
    "userRecomments.select(\"user_id\",\"recommendations.book_id\").show(10, False)"
   ]
  },
  {
   "cell_type": "code",
   "execution_count": 26,
   "metadata": {},
   "outputs": [
    {
     "name": "stdout",
     "output_type": "stream",
     "text": [
      "+-------+-----------------------------------+\n",
      "|book_id|user_id                            |\n",
      "+-------+-----------------------------------+\n",
      "|1580   |[23536, 20327, 30585, 23677, 20879]|\n",
      "|4900   |[15566, 38076, 23536, 21791, 9551] |\n",
      "|5300   |[23536, 27659, 20629, 15449, 10137]|\n",
      "|6620   |[23536, 24883, 13570, 17113, 38217]|\n",
      "|7240   |[23536, 41168, 27329, 51253, 16210]|\n",
      "|7340   |[23536, 20327, 16210, 24883, 41168]|\n",
      "|7880   |[23536, 21720, 41569, 47983, 12359]|\n",
      "|9900   |[23536, 20327, 12402, 415, 18510]  |\n",
      "|471    |[23536, 20327, 16210, 41168, 34474]|\n",
      "|1591   |[23536, 20327, 41168, 415, 38948]  |\n",
      "+-------+-----------------------------------+\n",
      "only showing top 10 rows\n",
      "\n"
     ]
    }
   ],
   "source": [
    "bookRecomments.select(\"book_id\",\"recommendations.user_id\").show(10, False)"
   ]
  },
  {
   "cell_type": "code",
   "execution_count": 27,
   "metadata": {},
   "outputs": [
    {
     "name": "stdout",
     "output_type": "stream",
     "text": [
      "+-------+\n",
      "|user_id|\n",
      "+-------+\n",
      "|  32592|\n",
      "|  19984|\n",
      "|  35982|\n",
      "+-------+\n",
      "\n"
     ]
    }
   ],
   "source": [
    "# Generate top 10 Book recommendations for a specified set of users\n",
    "users = ratings_df.select(\"user_id\").distinct().limit(3);\n",
    "users.show()"
   ]
  },
  {
   "cell_type": "code",
   "execution_count": 28,
   "metadata": {},
   "outputs": [],
   "source": [
    "userSubsetRecs = model.recommendForUserSubset(users, 10)"
   ]
  },
  {
   "cell_type": "code",
   "execution_count": 29,
   "metadata": {},
   "outputs": [
    {
     "name": "stdout",
     "output_type": "stream",
     "text": [
      "+-------+-----------------------------------------------------------+\n",
      "|user_id|book_id                                                    |\n",
      "+-------+-----------------------------------------------------------+\n",
      "|32592  |[862, 3282, 9842, 5207, 7401, 9076, 4868, 6009, 1788, 464] |\n",
      "|35982  |[3628, 7254, 9024, 516, 6590, 9516, 3124, 5853, 4149, 2520]|\n",
      "|19984  |[8976, 8854, 9076, 3952, 6590, 2441, 4868, 862, 1029, 7844]|\n",
      "+-------+-----------------------------------------------------------+\n",
      "\n"
     ]
    }
   ],
   "source": [
    "userSubsetRecs.select(\"user_id\",\"recommendations.book_id\").show(10, False)"
   ]
  },
  {
   "cell_type": "code",
   "execution_count": 31,
   "metadata": {},
   "outputs": [
    {
     "name": "stdout",
     "output_type": "stream",
     "text": [
      "+-------+\n",
      "|book_id|\n",
      "+-------+\n",
      "|    148|\n",
      "|    463|\n",
      "|    471|\n",
      "+-------+\n",
      "\n"
     ]
    }
   ],
   "source": [
    "# Generate top 10 user recommendations for a specified set of books\n",
    "movies = ratings_df.select(\"book_id\").distinct().limit(3)\n",
    "movies.show()\n"
   ]
  },
  {
   "cell_type": "code",
   "execution_count": 32,
   "metadata": {},
   "outputs": [],
   "source": [
    "movieSubSetRecs = model.recommendForItemSubset(movies, 10)"
   ]
  },
  {
   "cell_type": "code",
   "execution_count": 33,
   "metadata": {},
   "outputs": [
    {
     "name": "stdout",
     "output_type": "stream",
     "text": [
      "+-------+---------------------------------------------------------------------+\n",
      "|book_id|user_id                                                              |\n",
      "+-------+---------------------------------------------------------------------+\n",
      "|471    |[51190, 50307, 42246, 10664, 31900, 8963, 12236, 12749, 12353, 18033]|\n",
      "|463    |[37357, 18033, 22551, 42979, 28800, 30653, 49484, 49918, 49328, 3228]|\n",
      "|148    |[10664, 47531, 51190, 8963, 19406, 8958, 40328, 19167, 17371, 1560]  |\n",
      "+-------+---------------------------------------------------------------------+\n",
      "\n"
     ]
    }
   ],
   "source": [
    "movieSubSetRecs.select(\"book_id\",\"recommendations.user_id\").show(10, False)"
   ]
  },
  {
   "cell_type": "code",
   "execution_count": 36,
   "metadata": {},
   "outputs": [],
   "source": [
    "# Predicetin for a user and match with to-read list\n",
    "book_ids = [860,1524,2885,2914,5297,7397,8802,9506]\n",
    "user_ids = [4917,4917,4917,4917,4917,4917,4917,4917]\n",
    "new_user_preds = sqlContext.createDataFrame(zip(book_ids, user_ids), schema=['book_id','user_id'])"
   ]
  },
  {
   "cell_type": "code",
   "execution_count": 37,
   "metadata": {},
   "outputs": [
    {
     "name": "stdout",
     "output_type": "stream",
     "text": [
      "+-------+-------+\n",
      "|book_id|user_id|\n",
      "+-------+-------+\n",
      "|    860|   4917|\n",
      "|   1524|   4917|\n",
      "|   2885|   4917|\n",
      "|   2914|   4917|\n",
      "|   5297|   4917|\n",
      "|   7397|   4917|\n",
      "|   8802|   4917|\n",
      "|   9506|   4917|\n",
      "+-------+-------+\n",
      "\n"
     ]
    }
   ],
   "source": [
    "new_user_preds.show()"
   ]
  },
  {
   "cell_type": "code",
   "execution_count": 38,
   "metadata": {},
   "outputs": [
    {
     "name": "stdout",
     "output_type": "stream",
     "text": [
      "+-------+-------+----------+\n",
      "|book_id|user_id|prediction|\n",
      "+-------+-------+----------+\n",
      "|   2914|   4917|  3.819562|\n",
      "|    860|   4917| 3.9312704|\n",
      "|   2885|   4917| 3.5516005|\n",
      "|   7397|   4917| 3.9508529|\n",
      "|   8802|   4917| 3.4887486|\n",
      "|   9506|   4917| 3.0527444|\n",
      "|   1524|   4917| 4.0575905|\n",
      "|   5297|   4917| 3.6285481|\n",
      "+-------+-------+----------+\n",
      "\n"
     ]
    }
   ],
   "source": [
    "new_predictions = model.transform(new_user_preds)\n",
    "new_predictions.show()"
   ]
  },
  {
   "cell_type": "markdown",
   "metadata": {},
   "source": [
    "## Binod Suman Academy YouTube"
   ]
  },
  {
   "cell_type": "code",
   "execution_count": null,
   "metadata": {},
   "outputs": [],
   "source": []
  }
 ],
 "metadata": {
  "kernelspec": {
   "display_name": "Python 3",
   "language": "python",
   "name": "python3"
  },
  "language_info": {
   "codemirror_mode": {
    "name": "ipython",
    "version": 3
   },
   "file_extension": ".py",
   "mimetype": "text/x-python",
   "name": "python",
   "nbconvert_exporter": "python",
   "pygments_lexer": "ipython3",
   "version": "3.7.4"
  }
 },
 "nbformat": 4,
 "nbformat_minor": 2
}
